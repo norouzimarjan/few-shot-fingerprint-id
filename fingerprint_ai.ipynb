{
 "cells": [
  {
   "cell_type": "markdown",
   "metadata": {
    "id": "342BlZO-rMK6"
   },
   "source": [
    "**download dataset**"
   ]
  },
  {
   "cell_type": "code",
   "execution_count": null,
   "metadata": {
    "colab": {
     "base_uri": "https://localhost:8080/"
    },
    "executionInfo": {
     "elapsed": 7702,
     "status": "ok",
     "timestamp": 1745245831513,
     "user": {
      "displayName": "vision",
      "userId": "05165043341355369476"
     },
     "user_tz": -210
    },
    "id": "8SiBOyswnzrn",
    "outputId": "b9ab714a-97ec-44f6-f027-ed708969d339"
   },
   "outputs": [
    {
     "name": "stdout",
     "output_type": "stream",
     "text": [
      "Dataset URL: https://www.kaggle.com/datasets/nageshsingh/fvc2002-fingerprints\n",
      "License(s): unknown\n"
     ]
    }
   ],
   "source": [
    "# !mkdir -p ~/.kaggle\n",
    "# !cp kaggle.json ~/.kaggle/\n",
    "# !chmod 600 ~/.kaggle/kaggle.json\n",
    "\n",
    "# !kaggle datasets download -d nageshsingh/fvc2002-fingerprints\n",
    "\n",
    "# !mkdir -p \"/content/drive/MyDrive/vision/project1/dataset\"\n",
    "\n",
    "# !mv fvc2002-fingerprints.zip \"/content/drive/MyDrive/vision/project1/dataset\"\n",
    "\n",
    "# !unzip -q \"/content/drive/MyDrive/vision/project1/dataset/fvc2002-fingerprints.zip\" -d \"/content/drive/MyDrive/vision/project1/dataset\"\n"
   ]
  },
  {
   "cell_type": "markdown",
   "metadata": {
    "id": "eJRgrav-rpgo"
   },
   "source": [
    "**Import Requirements**"
   ]
  },
  {
   "cell_type": "code",
   "execution_count": null,
   "metadata": {
    "executionInfo": {
     "elapsed": 11962,
     "status": "ok",
     "timestamp": 1745597633178,
     "user": {
      "displayName": "marjan",
      "userId": "05386938556088657205"
     },
     "user_tz": -210
    },
    "id": "yGjN7dIWFAvy"
   },
   "outputs": [],
   "source": [
    "import os\n",
    "import random\n",
    "import glob\n",
    "import numpy as np\n",
    "from PIL import Image\n",
    "import torch\n",
    "from torch.utils.data import Dataset, DataLoader\n",
    "import torch.nn as nn\n",
    "import torch.nn.functional as F\n",
    "import torchvision.models as models\n",
    "import matplotlib.pyplot as plt\n",
    "import time\n",
    "import torchvision.transforms as transforms\n",
    "import random\n",
    "from IPython.display import display, HTML\n",
    "from sklearn.metrics import f1_score, accuracy_score\n"
   ]
  },
  {
   "cell_type": "markdown",
   "metadata": {
    "id": "YyaZ41eQsayu"
   },
   "source": [
    "**Data preparation**"
   ]
  },
  {
   "cell_type": "code",
   "execution_count": 3,
   "metadata": {
    "executionInfo": {
     "elapsed": 522,
     "status": "ok",
     "timestamp": 1745597639202,
     "user": {
      "displayName": "marjan",
      "userId": "05386938556088657205"
     },
     "user_tz": -210
    },
    "id": "TfIDXxnkK2ZM"
   },
   "outputs": [],
   "source": [
    "def load_user_dict_renamed(root_dir):\n",
    "    user_dict = {}\n",
    "    user_offset = 0\n",
    "\n",
    "    folders = sorted([f for f in os.listdir(root_dir) if os.path.isdir(os.path.join(root_dir, f))])\n",
    "    for folder in folders:\n",
    "        folder_path = os.path.join(root_dir, folder)\n",
    "        image_paths = sorted(glob.glob(os.path.join(folder_path, \"*.tif\")))\n",
    "\n",
    "        users_in_folder = sorted(set(os.path.basename(p).split(\"_\")[0] for p in image_paths))\n",
    "        for i, user in enumerate(users_in_folder):\n",
    "            new_user_id = str(101 + user_offset + i)\n",
    "            user_images = [p for p in image_paths if os.path.basename(p).startswith(user + \"_\")]\n",
    "            user_dict[new_user_id] = user_images\n",
    "\n",
    "        user_offset += len(users_in_folder)\n",
    "\n",
    "    print(f\"Number of users: {len(user_dict)}\")\n",
    "    return user_dict\n",
    "\n",
    "\n",
    "def create_pairs(user_dict, num_negatives_per_positive=4):\n",
    "    samples = []\n",
    "    user_ids = list(user_dict.keys())\n",
    "\n",
    "    for user_id in user_ids:\n",
    "        images = user_dict[user_id]\n",
    "        # positive\n",
    "        for i in range(len(images)):\n",
    "            for j in range(i + 1, len(images)):\n",
    "                samples.append((images[i], images[j], 1))\n",
    "\n",
    "            # negative\n",
    "            for _ in range(num_negatives_per_positive):\n",
    "                negative_user_id = np.random.choice([uid for uid in user_ids if uid != user_id])\n",
    "                negative_image = np.random.choice(user_dict[negative_user_id])\n",
    "                samples.append((images[i], negative_image, 0))\n",
    "\n",
    "    return samples\n",
    "\n",
    "\n",
    "class FingerprintSiameseDataset(Dataset):\n",
    "    def __init__(self, samples, transform=None):\n",
    "        self.samples = samples\n",
    "        self.transform = transform\n",
    "\n",
    "    def __len__(self):\n",
    "        return len(self.samples)\n",
    "\n",
    "    def __getitem__(self, idx):\n",
    "        img1_path, img2_path, label = self.samples[idx]\n",
    "        img1 = Image.open(img1_path).convert(\"L\")\n",
    "        img2 = Image.open(img2_path).convert(\"L\")\n",
    "\n",
    "        if self.transform:\n",
    "            img1 = self.transform(img1)\n",
    "            img2 = self.transform(img2)\n",
    "\n",
    "        return img1, img2, torch.tensor(label, dtype=torch.float32)\n"
   ]
  },
  {
   "cell_type": "code",
   "execution_count": 4,
   "metadata": {
    "colab": {
     "base_uri": "https://localhost:8080/"
    },
    "executionInfo": {
     "elapsed": 6925,
     "status": "ok",
     "timestamp": 1745597651281,
     "user": {
      "displayName": "marjan",
      "userId": "05386938556088657205"
     },
     "user_tz": -210
    },
    "id": "iyGhJIlJFAjg",
    "outputId": "e8d76b38-b8b7-4640-e562-d000bcea1fb5"
   },
   "outputs": [
    {
     "name": "stdout",
     "output_type": "stream",
     "text": [
      "Number of users: 40\n",
      "Number of training samples: 3024\n",
      "Number of testing samples: 336\n"
     ]
    }
   ],
   "source": [
    "dataset_root = '/content/drive/MyDrive/vision/project1/dataset/fingerprints/FVC2002'\n",
    "\n",
    "transform = transforms.Compose([\n",
    "    transforms.Resize((224, 224)),\n",
    "    transforms.ToTensor()\n",
    "])\n",
    "user_dict = load_user_dict_renamed(dataset_root)\n",
    "samples = create_pairs(user_dict, num_negatives_per_positive=7)\n",
    "dataset = FingerprintSiameseDataset(samples, transform=transform)\n",
    "\n",
    "train_size = int(0.9 * len(dataset))\n",
    "test_size = len(dataset) - train_size\n",
    "train_dataset, test_dataset = torch.utils.data.random_split(dataset, [train_size, test_size])\n",
    "\n",
    "train_loader = DataLoader(train_dataset, batch_size=32, shuffle=True)\n",
    "test_loader = DataLoader(test_dataset, batch_size=32, shuffle=False)\n",
    "\n",
    "print(\"Number of training samples:\", len(train_dataset))\n",
    "print(\"Number of testing samples:\", len(test_dataset))\n"
   ]
  },
  {
   "cell_type": "markdown",
   "metadata": {
    "id": "VIr11kmatP93"
   },
   "source": [
    "Siamese Network and Contrastive Loss\n",
    "\n"
   ]
  },
  {
   "cell_type": "code",
   "execution_count": 5,
   "metadata": {
    "colab": {
     "base_uri": "https://localhost:8080/"
    },
    "executionInfo": {
     "elapsed": 1284,
     "status": "ok",
     "timestamp": 1745597661761,
     "user": {
      "displayName": "marjan",
      "userId": "05386938556088657205"
     },
     "user_tz": -210
    },
    "id": "-EBHRfpdcWNF",
    "outputId": "c636365c-b98c-4ba6-fda7-4cf4d955d1e0"
   },
   "outputs": [
    {
     "name": "stderr",
     "output_type": "stream",
     "text": [
      "/usr/local/lib/python3.11/dist-packages/torchvision/models/_utils.py:208: UserWarning: The parameter 'pretrained' is deprecated since 0.13 and may be removed in the future, please use 'weights' instead.\n",
      "  warnings.warn(\n",
      "/usr/local/lib/python3.11/dist-packages/torchvision/models/_utils.py:223: UserWarning: Arguments other than a weight enum or `None` for 'weights' are deprecated since 0.13 and may be removed in the future. The current behavior is equivalent to passing `weights=ResNet18_Weights.IMAGENET1K_V1`. You can also use `weights=ResNet18_Weights.DEFAULT` to get the most up-to-date weights.\n",
      "  warnings.warn(msg)\n",
      "Downloading: \"https://download.pytorch.org/models/resnet18-f37072fd.pth\" to /root/.cache/torch/hub/checkpoints/resnet18-f37072fd.pth\n",
      "100%|██████████| 44.7M/44.7M [00:00<00:00, 138MB/s]\n"
     ]
    }
   ],
   "source": [
    "class SiameseNetwork(nn.Module):\n",
    "    def __init__(self, embedding_size=128):\n",
    "        super(SiameseNetwork, self).__init__()\n",
    "        self.base_model = models.resnet18(pretrained=True)\n",
    "\n",
    "        initial_conv = self.base_model.conv1\n",
    "        self.base_model.conv1 = nn.Conv2d(1, 64, kernel_size=7, stride=2, padding=3, bias=False)\n",
    "\n",
    "        with torch.no_grad():\n",
    "            self.base_model.conv1.weight = nn.Parameter(initial_conv.weight.mean(dim=1, keepdim=True))\n",
    "\n",
    "        num_features = self.base_model.fc.in_features\n",
    "        self.base_model.fc = nn.Identity()\n",
    "\n",
    "        self.embedding_layer = nn.Sequential(\n",
    "            nn.Linear(num_features, 256),\n",
    "            nn.ReLU(),\n",
    "            nn.Linear(256, embedding_size)\n",
    "        )\n",
    "\n",
    "    def extract_embedding(self, x):\n",
    "        x = self.base_model(x)\n",
    "        x = self.embedding_layer(x)\n",
    "        return x\n",
    "\n",
    "    def forward(self, image1, image2):\n",
    "        emb1 = self.extract_embedding(image1)\n",
    "        emb2 = self.extract_embedding(image2)\n",
    "        return emb1, emb2\n",
    "\n",
    "embedding_size = 128\n",
    "model = SiameseNetwork(embedding_size=embedding_size)\n",
    "\n",
    "device = torch.device(\"cuda\" if torch.cuda.is_available() else \"cpu\")\n",
    "model = model.to(device)\n"
   ]
  },
  {
   "cell_type": "code",
   "execution_count": 6,
   "metadata": {
    "executionInfo": {
     "elapsed": 533,
     "status": "ok",
     "timestamp": 1745597671619,
     "user": {
      "displayName": "marjan",
      "userId": "05386938556088657205"
     },
     "user_tz": -210
    },
    "id": "WFN8iOcD4FlT"
   },
   "outputs": [],
   "source": [
    "class ContrastiveLoss(nn.Module):\n",
    "    def __init__(self, margin=1.0):\n",
    "        super(ContrastiveLoss, self).__init__()\n",
    "        self.margin = margin\n",
    "\n",
    "    def forward(self, output1, output2, labels):\n",
    "        euclidean_distance = F.pairwise_distance(output1, output2, p=2)+ 1e-8\n",
    "\n",
    "        loss_pos = labels * torch.pow(euclidean_distance, 2)\n",
    "        loss_neg = (1 - labels) * torch.pow(torch.clamp(self.margin - euclidean_distance, min=0), 2)\n",
    "        total_loss = torch.mean(loss_pos + loss_neg)\n",
    "\n",
    "        return total_loss\n",
    "\n",
    "\n",
    "loss_criterion = ContrastiveLoss(margin=1.0)\n",
    "optimizer = torch.optim.Adam(model.parameters(), lr=1e-4)\n"
   ]
  },
  {
   "cell_type": "markdown",
   "metadata": {
    "id": "9DRbbz8KtzLG"
   },
   "source": [
    "**Training**"
   ]
  },
  {
   "cell_type": "code",
   "execution_count": 7,
   "metadata": {
    "colab": {
     "base_uri": "https://localhost:8080/"
    },
    "executionInfo": {
     "elapsed": 462874,
     "status": "ok",
     "timestamp": 1745599550541,
     "user": {
      "displayName": "marjan",
      "userId": "05386938556088657205"
     },
     "user_tz": -210
    },
    "id": "zh_l4Fde6RK-",
    "outputId": "63be8562-5e52-4d2e-f538-5d78fa4cf688"
   },
   "outputs": [
    {
     "name": "stdout",
     "output_type": "stream",
     "text": [
      "epoch 1 started...\n",
      "Epoch [1/30], Loss: 0.1878\n",
      "epoch 2 started...\n",
      "Epoch [2/30], Loss: 0.0574\n",
      "epoch 3 started...\n",
      "Epoch [3/30], Loss: 0.0352\n",
      "Checkpoint saved at: /content/drive/MyDrive/vision/project1/models/new/fingerprint30_3.pt\n",
      "epoch 4 started...\n",
      "Epoch [4/30], Loss: 0.0249\n",
      "epoch 5 started...\n",
      "Epoch [5/30], Loss: 0.0212\n",
      "epoch 6 started...\n",
      "Epoch [6/30], Loss: 0.0176\n",
      "Checkpoint saved at: /content/drive/MyDrive/vision/project1/models/new/fingerprint30_6.pt\n",
      "epoch 7 started...\n",
      "Epoch [7/30], Loss: 0.0146\n",
      "epoch 8 started...\n",
      "Epoch [8/30], Loss: 0.0132\n",
      "epoch 9 started...\n",
      "Epoch [9/30], Loss: 0.0115\n",
      "Checkpoint saved at: /content/drive/MyDrive/vision/project1/models/new/fingerprint30_9.pt\n",
      "epoch 10 started...\n",
      "Epoch [10/30], Loss: 0.0103\n",
      "epoch 11 started...\n",
      "Epoch [11/30], Loss: 0.0095\n",
      "epoch 12 started...\n",
      "Epoch [12/30], Loss: 0.0090\n",
      "Checkpoint saved at: /content/drive/MyDrive/vision/project1/models/new/fingerprint30_12.pt\n",
      "epoch 13 started...\n",
      "Epoch [13/30], Loss: 0.0072\n",
      "epoch 14 started...\n",
      "Epoch [14/30], Loss: 0.0068\n",
      "epoch 15 started...\n",
      "Epoch [15/30], Loss: 0.0069\n",
      "Checkpoint saved at: /content/drive/MyDrive/vision/project1/models/new/fingerprint30_15.pt\n",
      "epoch 16 started...\n",
      "Epoch [16/30], Loss: 0.0064\n",
      "epoch 17 started...\n",
      "Epoch [17/30], Loss: 0.0059\n",
      "epoch 18 started...\n",
      "Epoch [18/30], Loss: 0.0051\n",
      "Checkpoint saved at: /content/drive/MyDrive/vision/project1/models/new/fingerprint30_18.pt\n",
      "epoch 19 started...\n",
      "Epoch [19/30], Loss: 0.0049\n",
      "epoch 20 started...\n",
      "Epoch [20/30], Loss: 0.0045\n",
      "epoch 21 started...\n",
      "Epoch [21/30], Loss: 0.0043\n",
      "Checkpoint saved at: /content/drive/MyDrive/vision/project1/models/new/fingerprint30_21.pt\n",
      "epoch 22 started...\n",
      "Epoch [22/30], Loss: 0.0041\n",
      "epoch 23 started...\n",
      "Epoch [23/30], Loss: 0.0039\n",
      "epoch 24 started...\n",
      "Epoch [24/30], Loss: 0.0034\n",
      "Checkpoint saved at: /content/drive/MyDrive/vision/project1/models/new/fingerprint30_24.pt\n",
      "epoch 25 started...\n",
      "Epoch [25/30], Loss: 0.0036\n",
      "epoch 26 started...\n",
      "Epoch [26/30], Loss: 0.0032\n",
      "epoch 27 started...\n",
      "Epoch [27/30], Loss: 0.0029\n",
      "Checkpoint saved at: /content/drive/MyDrive/vision/project1/models/new/fingerprint30_27.pt\n",
      "epoch 28 started...\n",
      "Epoch [28/30], Loss: 0.0029\n",
      "epoch 29 started...\n",
      "Epoch [29/30], Loss: 0.0029\n",
      "epoch 30 started...\n",
      "Epoch [30/30], Loss: 0.0025\n",
      "Checkpoint saved at: /content/drive/MyDrive/vision/project1/models/new/fingerprint30_30.pt\n"
     ]
    }
   ],
   "source": [
    "def train_model(model, criterion, optimizer, train_loader, num_epochs=10, checkpoint_dir=\"checkpoints\", checkpoint_interval=3):\n",
    "    model.train()\n",
    "    epoch_losses = []\n",
    "    os.makedirs(checkpoint_dir, exist_ok=True)\n",
    "\n",
    "    for epoch in range(num_epochs):\n",
    "        print(f\"epoch {epoch+1} started...\")\n",
    "        running_loss = 0.0\n",
    "        for img1, img2, labels in train_loader:\n",
    "            img1 = img1.to(device)\n",
    "            img2 = img2.to(device)\n",
    "            labels = labels.to(device)\n",
    "\n",
    "            optimizer.zero_grad()\n",
    "            emb1, emb2 = model(img1, img2)\n",
    "            loss = criterion(emb1, emb2, labels)\n",
    "            loss.backward()\n",
    "            optimizer.step()\n",
    "\n",
    "            running_loss += loss.item()\n",
    "\n",
    "        epoch_loss = running_loss / len(train_loader)\n",
    "        epoch_losses.append(epoch_loss)\n",
    "        print(f\"Epoch [{epoch+1}/{num_epochs}], Loss: {epoch_loss:.4f}\")\n",
    "\n",
    "        if (epoch + 1) % checkpoint_interval == 0:\n",
    "            checkpoint_path = os.path.join(checkpoint_dir, f\"fingerprint30_{epoch+1}.pt\")\n",
    "            torch.save(model.state_dict(), checkpoint_path)\n",
    "            print(f\"Checkpoint saved at: {checkpoint_path}\")\n",
    "\n",
    "    return epoch_losses\n",
    "\n",
    "train_losses = train_model(\n",
    "    model,\n",
    "    loss_criterion,\n",
    "    optimizer,\n",
    "    train_loader,\n",
    "    num_epochs=30,\n",
    "    checkpoint_dir='/content/drive/MyDrive/vision/project1/models/new',\n",
    "    checkpoint_interval=3\n",
    "    )\n"
   ]
  },
  {
   "cell_type": "markdown",
   "metadata": {
    "id": "2qv4_-xryfsc"
   },
   "source": [
    " **load model**\n",
    "\n"
   ]
  },
  {
   "cell_type": "code",
   "execution_count": 26,
   "metadata": {
    "colab": {
     "base_uri": "https://localhost:8080/"
    },
    "collapsed": true,
    "executionInfo": {
     "elapsed": 574,
     "status": "ok",
     "timestamp": 1745600556875,
     "user": {
      "displayName": "marjan",
      "userId": "05386938556088657205"
     },
     "user_tz": -210
    },
    "id": "yYMylFoVzw_p",
    "outputId": "cee20591-ad2b-42ea-82b5-284f7653e8d3"
   },
   "outputs": [
    {
     "data": {
      "text/plain": [
       "<All keys matched successfully>"
      ]
     },
     "execution_count": 26,
     "metadata": {},
     "output_type": "execute_result"
    }
   ],
   "source": [
    "checkpoint = torch.load('/content/drive/MyDrive/vision/project1/models/new/model_simple_30.pt', map_location=device)\n",
    "model.load_state_dict(checkpoint)"
   ]
  },
  {
   "cell_type": "markdown",
   "metadata": {
    "id": "FS--t9-lx7QD"
   },
   "source": [
    "**Test**"
   ]
  },
  {
   "cell_type": "code",
   "execution_count": 27,
   "metadata": {
    "executionInfo": {
     "elapsed": 1416,
     "status": "ok",
     "timestamp": 1745600562532,
     "user": {
      "displayName": "marjan",
      "userId": "05386938556088657205"
     },
     "user_tz": -210
    },
    "id": "z3gguB4HG6BW"
   },
   "outputs": [],
   "source": [
    "def test_model(model, data_loader, threshold=0.5):\n",
    "    model.eval()\n",
    "    correct_preds = 0\n",
    "    total_samples = 0\n",
    "    time_taken_per_pair = []\n",
    "\n",
    "    with torch.no_grad():\n",
    "        for image1, image2, target_labels in data_loader:\n",
    "            image1, image2, target_labels = image1.to(device), image2.to(device), target_labels.to(device)\n",
    "\n",
    "            start = time.time()\n",
    "\n",
    "            embeddings1, embeddings2 = model(image1, image2)\n",
    "            distance = F.pairwise_distance(embeddings1, embeddings2)\n",
    "\n",
    "            end = time.time()\n",
    "\n",
    "            batch_size = target_labels.size(0)\n",
    "            time_per_example = (end - start) / batch_size\n",
    "\n",
    "            for _ in range(batch_size):\n",
    "                time_taken_per_pair.append(time_per_example)\n",
    "\n",
    "            predictions = (distance < threshold).float()\n",
    "            correct_preds += (predictions == target_labels).sum().item()\n",
    "            total_samples += batch_size\n",
    "\n",
    "    accuracy_percent = (correct_preds / total_samples) * 100\n",
    "    avg_time_per_pair = sum(time_taken_per_pair) / len(time_taken_per_pair) * 1000\n",
    "\n",
    "    print(f\"Test Accuracy: {accuracy_percent:.2f}%\")\n",
    "    print(f\"Avg Processing Time per Pair: {avg_time_per_pair:.2f} ms\")\n",
    "    print(f\"Total Pairs Evaluated: {len(time_taken_per_pair)}\")\n",
    "\n",
    "    return accuracy_percent, time_taken_per_pair\n"
   ]
  },
  {
   "cell_type": "code",
   "execution_count": 29,
   "metadata": {
    "colab": {
     "base_uri": "https://localhost:8080/"
    },
    "executionInfo": {
     "elapsed": 6040,
     "status": "ok",
     "timestamp": 1745600574170,
     "user": {
      "displayName": "marjan",
      "userId": "05386938556088657205"
     },
     "user_tz": -210
    },
    "id": "BQjg9uDlG-Yg",
    "outputId": "357612bc-ad6f-451e-fbf6-f3ba34fcd31f"
   },
   "outputs": [
    {
     "name": "stdout",
     "output_type": "stream",
     "text": [
      "Test Accuracy: 89.58%\n",
      "Avg Processing Time per Pair: 0.22 ms\n",
      "Total Pairs Evaluated: 336\n"
     ]
    }
   ],
   "source": [
    "accuracy, processing_times = test_model(model, test_loader, threshold=0.05)\n"
   ]
  },
  {
   "cell_type": "markdown",
   "metadata": {
    "id": "I5BtqTAQR_ia"
   },
   "source": [
    "# **infrence**"
   ]
  },
  {
   "cell_type": "code",
   "execution_count": 43,
   "metadata": {
    "executionInfo": {
     "elapsed": 997,
     "status": "ok",
     "timestamp": 1745601221716,
     "user": {
      "displayName": "marjan",
      "userId": "05386938556088657205"
     },
     "user_tz": -210
    },
    "id": "doePuLJ1O-b9"
   },
   "outputs": [],
   "source": [
    "support_set = {\n",
    "  0: ['/content/drive/MyDrive/vision/project1/dataset/fingerprints/FVC2004/DB1_B_new/101_1.tif',\n",
    "        '/content/drive/MyDrive/vision/project1/dataset/fingerprints/FVC2004/DB1_B_new/101_2.tif',\n",
    "        '/content/drive/MyDrive/vision/project1/dataset/fingerprints/FVC2004/DB1_B_new/101_5.tif',\n",
    "        '/content/drive/MyDrive/vision/project1/dataset/fingerprints/FVC2004/DB1_B_new/101_7.tif',\n",
    "        '/content/drive/MyDrive/vision/project1/dataset/fingerprints/FVC2004/DB1_B_new/101_6.tif'],\n",
    "\n",
    "  1: ['/content/drive/MyDrive/vision/project1/dataset/fingerprints/FVC2004/DB3_B_new/102_1.tif',\n",
    "      '/content/drive/MyDrive/vision/project1/dataset/fingerprints/FVC2004/DB3_B_new/102_2.tif',\n",
    "      '/content/drive/MyDrive/vision/project1/dataset/fingerprints/FVC2004/DB3_B_new/102_4.tif',\n",
    "      '/content/drive/MyDrive/vision/project1/dataset/fingerprints/FVC2004/DB3_B_new/102_6.tif',\n",
    "      '/content/drive/MyDrive/vision/project1/dataset/fingerprints/FVC2004/DB3_B_new/102_8.tif'],\n",
    "\n",
    "  2: ['/content/drive/MyDrive/vision/project1/dataset/fingerprints/FVC2004/DB1_B_new/103_1.tif',\n",
    "      '/content/drive/MyDrive/vision/project1/dataset/fingerprints/FVC2004/DB1_B_new/103_2.tif',\n",
    "      '/content/drive/MyDrive/vision/project1/dataset/fingerprints/FVC2004/DB1_B_new/103_3.tif',\n",
    "      '/content/drive/MyDrive/vision/project1/dataset/fingerprints/FVC2004/DB1_B_new/103_6.tif',\n",
    "      '/content/drive/MyDrive/vision/project1/dataset/fingerprints/FVC2004/DB1_B_new/103_7.tif'],\n",
    "\n",
    "  3: ['/content/drive/MyDrive/vision/project1/dataset/fingerprints/FVC2004/DB2_B_new/104_1.tif',\n",
    "      '/content/drive/MyDrive/vision/project1/dataset/fingerprints/FVC2004/DB2_B_new/104_6.tif',\n",
    "      '/content/drive/MyDrive/vision/project1/dataset/fingerprints/FVC2004/DB2_B_new/104_4.tif',\n",
    "      '/content/drive/MyDrive/vision/project1/dataset/fingerprints/FVC2004/DB2_B_new/104_5.tif',\n",
    "      '/content/drive/MyDrive/vision/project1/dataset/fingerprints/FVC2004/DB2_B_new/104_3.tif'],\n",
    "\n",
    "  4: ['/content/drive/MyDrive/vision/project1/dataset/fingerprints/FVC2004/DB1_B_new/106_5.tif',\n",
    "      '/content/drive/MyDrive/vision/project1/dataset/fingerprints/FVC2004/DB1_B_new/106_7.tif',\n",
    "      '/content/drive/MyDrive/vision/project1/dataset/fingerprints/FVC2004/DB1_B_new/106_2.tif',\n",
    "      '/content/drive/MyDrive/vision/project1/dataset/fingerprints/FVC2004/DB1_B_new/106_1.tif',\n",
    "      '/content/drive/MyDrive/vision/project1/dataset/fingerprints/FVC2004/DB1_B_new/106_8.tif'],\n",
    "\n",
    "   5: ['/content/drive/MyDrive/vision/project1/dataset/fingerprints/FVC2004/DB1_B_new/109_1.tif',\n",
    "      '/content/drive/MyDrive/vision/project1/dataset/fingerprints/FVC2004/DB1_B_new/109_3.tif',\n",
    "      '/content/drive/MyDrive/vision/project1/dataset/fingerprints/FVC2004/DB1_B_new/109_6.tif',\n",
    "      '/content/drive/MyDrive/vision/project1/dataset/fingerprints/FVC2004/DB1_B_new/109_7.tif',\n",
    "      '/content/drive/MyDrive/vision/project1/dataset/fingerprints/FVC2004/DB1_B_new/109_8.tif']}\n",
    "\n",
    "query_set = [\n",
    "    ('/content/drive/MyDrive/vision/project1/dataset/fingerprints/FVC2004/DB1_B_new/101_4.tif',0),\n",
    "    ('/content/drive/MyDrive/vision/project1/dataset/fingerprints/FVC2004/DB3_B_new/102_5.tif',1),\n",
    "    ('/content/drive/MyDrive/vision/project1/dataset/fingerprints/FVC2004/DB1_B_new/103_5.tif',2),\n",
    "    ('/content/drive/MyDrive/vision/project1/dataset/fingerprints/FVC2004/DB2_B_new/104_7.tif',3),\n",
    "    ('/content/drive/MyDrive/vision/project1/dataset/fingerprints/FVC2004/DB1_B_new/106_4.tif',4),\n",
    "    ('/content/drive/MyDrive/vision/project1/dataset/fingerprints/FVC2004/DB1_B_new/109_5.tif',5)\n",
    "\n",
    " ]"
   ]
  },
  {
   "cell_type": "code",
   "execution_count": 44,
   "metadata": {
    "executionInfo": {
     "elapsed": 2,
     "status": "ok",
     "timestamp": 1745601224985,
     "user": {
      "displayName": "marjan",
      "userId": "05386938556088657205"
     },
     "user_tz": -210
    },
    "id": "6Tmk3jv5Vggn"
   },
   "outputs": [],
   "source": [
    "support_images = []\n",
    "support_labels = []\n",
    "\n",
    "for label, paths in support_set.items():\n",
    "    for path in paths:\n",
    "        support_images.append(path)\n",
    "        support_labels.append(label)\n",
    "\n",
    "query_labels = [path for label, path in query_set]\n",
    "query_images = [label for label, path in query_set]\n",
    "\n",
    "\n",
    "sampless = create_pairs(support_set, num_negatives_per_positive=4)\n",
    "support_dataset = FingerprintSiameseDataset(sampless, transform=transform)\n",
    "\n",
    "support_loader = DataLoader(support_dataset, batch_size=16, shuffle=True)\n"
   ]
  },
  {
   "cell_type": "code",
   "execution_count": 32,
   "metadata": {
    "executionInfo": {
     "elapsed": 575,
     "status": "ok",
     "timestamp": 1745600871099,
     "user": {
      "displayName": "marjan",
      "userId": "05386938556088657205"
     },
     "user_tz": -210
    },
    "id": "lbptj2w0XCVR"
   },
   "outputs": [],
   "source": [
    "def preprocess_image(img_path):\n",
    "    image = Image.open(img_path).convert(\"L\")\n",
    "    return transform(image).unsqueeze(0).to(device)"
   ]
  },
  {
   "cell_type": "code",
   "execution_count": 33,
   "metadata": {
    "executionInfo": {
     "elapsed": 5,
     "status": "ok",
     "timestamp": 1745600872586,
     "user": {
      "displayName": "marjan",
      "userId": "05386938556088657205"
     },
     "user_tz": -210
    },
    "id": "ym-zLgoJrlqv"
   },
   "outputs": [],
   "source": [
    "SUPPORT_EMB_PATH = \"support_embeddings.pt\""
   ]
  },
  {
   "cell_type": "code",
   "execution_count": 34,
   "metadata": {
    "executionInfo": {
     "elapsed": 3,
     "status": "ok",
     "timestamp": 1745600874911,
     "user": {
      "displayName": "marjan",
      "userId": "05386938556088657205"
     },
     "user_tz": -210
    },
    "id": "MiUo9eQWr2s_"
   },
   "outputs": [],
   "source": [
    "def compute_embedding(img_path):\n",
    "    image_tensor = preprocess_image(img_path)\n",
    "    with torch.no_grad():\n",
    "        embedding = model.extract_embedding(image_tensor)\n",
    "        embedding = F.normalize(embedding, p=2, dim=1)\n",
    "\n",
    "    return embedding\n",
    "\n",
    "\n",
    "def compute_support_embeddings(support_set, force_recompute=False):\n",
    "    if os.path.exists(SUPPORT_EMB_PATH) and not force_recompute:\n",
    "        print(\"Loading cached support embeddings...\")\n",
    "        return torch.load(SUPPORT_EMB_PATH)\n",
    "\n",
    "    print(\"Computing support embeddings...\")\n",
    "    support_embeddings = {}\n",
    "    for label, img_paths in support_set.items():\n",
    "        embs = [compute_embedding(p) for p in img_paths]\n",
    "        support_embeddings[label] = torch.stack(embs).mean(dim=0)\n",
    "\n",
    "    torch.save(support_embeddings, SUPPORT_EMB_PATH)\n",
    "    print(\"Support embeddings cached.\")\n",
    "    return support_embeddings"
   ]
  },
  {
   "cell_type": "code",
   "execution_count": 60,
   "metadata": {
    "executionInfo": {
     "elapsed": 1006,
     "status": "ok",
     "timestamp": 1745603957484,
     "user": {
      "displayName": "marjan",
      "userId": "05386938556088657205"
     },
     "user_tz": -210
    },
    "id": "de4p9PTSXCQR"
   },
   "outputs": [],
   "source": [
    "def euclidean_distance(tensor1, tensor2):\n",
    "    return F.pairwise_distance(tensor1, tensor2)\n",
    "\n",
    "\n",
    "def predict_query_labels(support_set, query_set, threshold=0.7):\n",
    "    predictions = []\n",
    "    support_embeddings = compute_support_embeddings(support_set)\n",
    "\n",
    "    total_time = 0\n",
    "    query_times = []\n",
    "    for query_path, true_label in query_set:\n",
    "        start_time = time.time()\n",
    "        query_emb = compute_embedding(query_path)\n",
    "        distances = {\n",
    "            label: euclidean_distance(query_emb, emb).item()\n",
    "            for label, emb in support_embeddings.items()\n",
    "        }\n",
    "\n",
    "        min_label, min_distance = min(distances.items(), key=lambda x: x[1])\n",
    "        if min_distance < threshold:\n",
    "            predicted_label = min_label\n",
    "        else:\n",
    "            predicted_label = -1\n",
    "\n",
    "        end_time = time.time()\n",
    "        response_time = end_time - start_time\n",
    "        total_time += response_time\n",
    "        query_times.append(response_time)\n",
    "\n",
    "        predictions.append((query_path, true_label, predicted_label, min_distance))\n",
    "\n",
    "    avg_time = total_time / len(query_set)\n",
    "    return predictions, avg_time ,query_times\n"
   ]
  },
  {
   "cell_type": "code",
   "execution_count": null,
   "metadata": {
    "colab": {
     "base_uri": "https://localhost:8080/"
    },
    "executionInfo": {
     "elapsed": 2450,
     "status": "ok",
     "timestamp": 1745604010208,
     "user": {
      "displayName": "marjan",
      "userId": "05386938556088657205"
     },
     "user_tz": -210
    },
    "id": "3Z31YcZ9ahdx",
    "outputId": "a8ecb7ba-c028-42a4-efd2-5da0233472d3"
   },
   "outputs": [
    {
     "name": "stdout",
     "output_type": "stream",
     "text": [
      "Loading cached support embeddings...\n",
      "Loading cached support embeddings...\n",
      "Loading cached support embeddings...\n",
      "Loading cached support embeddings...\n",
      "Loading cached support embeddings...\n",
      "Loading cached support embeddings...\n",
      "Loading cached support embeddings...\n",
      "Loading cached support embeddings...\n",
      "Loading cached support embeddings...\n",
      "Loading cached support embeddings...\n",
      "Loading cached support embeddings...\n",
      "Loading cached support embeddings...\n",
      "Loading cached support embeddings...\n",
      "Loading cached support embeddings...\n",
      "Loading cached support embeddings...\n",
      "Loading cached support embeddings...\n",
      "Loading cached support embeddings...\n",
      "Loading cached support embeddings...\n",
      "All thresholds and scores:\n",
      "Threshold: 0.10 -> F1 Score: 0.4286\n",
      "Threshold: 0.15 -> F1 Score: 0.5714\n",
      "Threshold: 0.20 -> F1 Score: 0.7143\n",
      "Threshold: 0.25 -> F1 Score: 0.7143\n",
      "Threshold: 0.30 -> F1 Score: 0.7143\n",
      "Threshold: 0.35 -> F1 Score: 0.7778\n",
      "Threshold: 0.40 -> F1 Score: 0.7778\n",
      "Threshold: 0.45 -> F1 Score: 0.7778\n",
      "Threshold: 0.50 -> F1 Score: 0.7778\n",
      "Threshold: 0.55 -> F1 Score: 0.7778\n",
      "Threshold: 0.60 -> F1 Score: 0.7778\n",
      "Threshold: 0.65 -> F1 Score: 0.7778\n",
      "Threshold: 0.70 -> F1 Score: 0.7778\n",
      "Threshold: 0.75 -> F1 Score: 0.7778\n",
      "Threshold: 0.80 -> F1 Score: 0.7778\n",
      "Threshold: 0.85 -> F1 Score: 0.7778\n",
      "Threshold: 0.90 -> F1 Score: 0.7778\n",
      "Threshold: 0.95 -> F1 Score: 0.7778\n",
      "\n",
      "Best threshold: 0.35 with F1 Score: 0.7778\n"
     ]
    }
   ],
   "source": [
    "def find_best_threshold(support_set, query_set, thresholds=None):\n",
    "    if thresholds is None:\n",
    "        thresholds = [i / 100 for i in range(10, 100, 5)]  # 0.10, 0.15, ..., 0.95\n",
    "\n",
    "    best_threshold = None\n",
    "    best_score = -1\n",
    "    all_scores = []\n",
    "\n",
    "    for thresh in thresholds:\n",
    "        predictions, _ ,_ = predict_query_labels(support_set, query_set, threshold=thresh)\n",
    "\n",
    "        y_true = []\n",
    "        y_pred = []\n",
    "        for _, true_label, pred_label, _ in predictions:\n",
    "            y_true.append(true_label)\n",
    "            y_pred.append(pred_label)\n",
    "\n",
    "        if -1 in y_pred:\n",
    "            score = f1_score(y_true, y_pred, average='macro', zero_division=0)\n",
    "        else:\n",
    "            score = f1_score(y_true, y_pred, average='macro')\n",
    "\n",
    "        all_scores.append((thresh, score))\n",
    "\n",
    "        if score > best_score:\n",
    "            best_score = score\n",
    "            best_threshold = thresh\n",
    "\n",
    "    print(\"All thresholds and scores:\")\n",
    "    for t, s in all_scores:\n",
    "        print(f\"Threshold: {t:.2f} -> F1 Score: {s:.4f}\")\n",
    "\n",
    "    print(f\"\\nBest threshold: {best_threshold:.2f} with F1 Score: {best_score:.4f}\")\n",
    "    return best_threshold\n",
    "\n",
    "best_thresh = find_best_threshold(support_set, query_set)"
   ]
  },
  {
   "cell_type": "code",
   "execution_count": 62,
   "metadata": {
    "colab": {
     "base_uri": "https://localhost:8080/",
     "height": 208
    },
    "executionInfo": {
     "elapsed": 544,
     "status": "ok",
     "timestamp": 1745604012845,
     "user": {
      "displayName": "marjan",
      "userId": "05386938556088657205"
     },
     "user_tz": -210
    },
    "id": "tBbkvM_JAni1",
    "outputId": "627983d0-123e-46ec-d6b1-58b8db743df5"
   },
   "outputs": [
    {
     "name": "stdout",
     "output_type": "stream",
     "text": [
      "Loading cached support embeddings...\n"
     ]
    },
    {
     "data": {
      "text/html": [
       "<b>Average Query Time:</b> 13.47 ms<br><br>"
      ],
      "text/plain": [
       "<IPython.core.display.HTML object>"
      ]
     },
     "metadata": {},
     "output_type": "display_data"
    },
    {
     "data": {
      "text/html": [
       "<div style='color:green;'>✅ True: 0 | Pred: 0 | Distance: 0.0884 | Path: /content/drive/MyDrive/vision/project1/dataset/fingerprints/FVC2004/DB1_B_new/101_4.tif</div><div style='color:green;'>✅ True: 1 | Pred: 1 | Distance: 0.0104 | Path: /content/drive/MyDrive/vision/project1/dataset/fingerprints/FVC2004/DB3_B_new/102_5.tif</div><div style='color:green;'>✅ True: 2 | Pred: 2 | Distance: 0.1750 | Path: /content/drive/MyDrive/vision/project1/dataset/fingerprints/FVC2004/DB1_B_new/103_5.tif</div><div style='color:green;'>✅ True: 3 | Pred: 3 | Distance: 0.0157 | Path: /content/drive/MyDrive/vision/project1/dataset/fingerprints/FVC2004/DB2_B_new/104_7.tif</div><div style='color:green;'>✅ True: 4 | Pred: 4 | Distance: 0.1320 | Path: /content/drive/MyDrive/vision/project1/dataset/fingerprints/FVC2004/DB1_B_new/106_4.tif</div><div style='color:red;'>❌ True: 5 | Pred: 2 | Distance: 0.3157 | Path: /content/drive/MyDrive/vision/project1/dataset/fingerprints/FVC2004/DB1_B_new/109_5.tif</div><br><div style='color:cyan;'><b>Final Accuracy:</b> 83.33% (5/6)</div>"
      ],
      "text/plain": [
       "<IPython.core.display.HTML object>"
      ]
     },
     "metadata": {},
     "output_type": "display_data"
    }
   ],
   "source": [
    "results, avg_inference_time , query_times = predict_query_labels(support_set, query_set)\n",
    "\n",
    "display(HTML(f\"<b>Average Query Time:</b> {avg_inference_time * 1000:.2f} ms<br><br>\"))\n",
    "\n",
    "correct = 0\n",
    "html_output = \"\"\n",
    "\n",
    "for img_path, true, pred, dist in results:\n",
    "    if true == pred:\n",
    "        html_output += f\"<div style='color:green;'>✅ True: {true} | Pred: {pred} | Distance: {dist:.4f} | Path: {img_path}</div>\"\n",
    "        correct += 1\n",
    "    else:\n",
    "        html_output += f\"<div style='color:red;'>❌ True: {true} | Pred: {pred} | Distance: {dist:.4f} | Path: {img_path}</div>\"\n",
    "\n",
    "accuracy = correct / len(results) * 100\n",
    "html_output += f\"<br><div style='color:cyan;'><b>Final Accuracy:</b> {accuracy:.2f}% ({correct}/{len(results)})</div>\"\n",
    "\n",
    "display(HTML(html_output))\n"
   ]
  },
  {
   "cell_type": "code",
   "execution_count": 65,
   "metadata": {
    "colab": {
     "base_uri": "https://localhost:8080/",
     "height": 424
    },
    "executionInfo": {
     "elapsed": 829,
     "status": "ok",
     "timestamp": 1745604102908,
     "user": {
      "displayName": "marjan",
      "userId": "05386938556088657205"
     },
     "user_tz": -210
    },
    "id": "XErhgDeEG48K",
    "outputId": "9f36f722-e464-4696-d927-f24b756de209"
   },
   "outputs": [
    {
     "name": "stdout",
     "output_type": "stream",
     "text": [
      "Loading cached support embeddings...\n"
     ]
    },
    {
     "data": {
      "image/png": "[encoded data removed]",
      "text/plain": [
       "<Figure size 1200x400 with 1 Axes>"
      ]
     },
     "metadata": {},
     "output_type": "display_data"
    }
   ],
   "source": [
    "results, avg_time, query_times = predict_query_labels(support_set, query_set)\n",
    "\n",
    "plt.figure(figsize=(12, 4))\n",
    "plt.plot(query_times, marker='o', linestyle='-', color='purple')\n",
    "plt.axhline(y=avg_time, color='red', linestyle='--', label=f'Average: {avg_time*1000:.2f} ms')\n",
    "plt.legend()\n",
    "plt.title(\" Query Inference Time per Sample\")\n",
    "plt.xlabel(\"Query Index\")\n",
    "plt.ylabel(\"Time (seconds)\")\n",
    "plt.grid(True)\n",
    "plt.tight_layout()\n",
    "plt.show()\n"
   ]
  },
  {
   "cell_type": "code",
   "execution_count": 59,
   "metadata": {
    "colab": {
     "base_uri": "https://localhost:8080/",
     "height": 507
    },
    "executionInfo": {
     "elapsed": 566,
     "status": "ok",
     "timestamp": 1745603407038,
     "user": {
      "displayName": "marjan",
      "userId": "05386938556088657205"
     },
     "user_tz": -210
    },
    "id": "jwSSHCB4EZJh",
    "outputId": "7cddf926-c344-4c0e-d803-702f2343fdde"
   },
   "outputs": [
    {
     "data": {
      "image/png": "[encoded data removed]",
      "text/plain": [
       "<Figure size 1000x500 with 1 Axes>"
      ]
     },
     "metadata": {},
     "output_type": "display_data"
    }
   ],
   "source": [
    "\n",
    "labels = []\n",
    "colors = []\n",
    "\n",
    "for i, (img_path, true, pred, dist) in enumerate(results):\n",
    "    is_correct = true == pred\n",
    "    labels.append(f\"{i}\")\n",
    "    colors.append('green' if is_correct else 'red')\n",
    "\n",
    "# رسم نمودار\n",
    "plt.figure(figsize=(10,5))\n",
    "plt.bar(labels, [1]*len(labels), color=colors)\n",
    "plt.xticks(rotation=90)\n",
    "plt.yticks([])\n",
    "plt.title(\"Prediction Correctness per Query (Green=Correct, Red=Incorrect)\")\n",
    "plt.tight_layout()\n",
    "plt.show()\n"
   ]
  }
 ],
 "metadata": {
  "accelerator": "GPU",
  "colab": {
   "gpuType": "T4",
   "provenance": []
  },
  "kernelspec": {
   "display_name": "Python 3",
   "name": "python3"
  },
  "language_info": {
   "name": "python"
  }
 },
 "nbformat": 4,
 "nbformat_minor": 0
}
